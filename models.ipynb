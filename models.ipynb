{
 "cells": [
  {
   "cell_type": "markdown",
   "metadata": {},
   "source": [
    "## File for different Model Layers and the like"
   ]
  },
  {
   "cell_type": "code",
   "execution_count": null,
   "metadata": {},
   "outputs": [],
   "source": [
    "import torch\n",
    "from torch import nn"
   ]
  },
  {
   "cell_type": "code",
   "execution_count": null,
   "metadata": {},
   "outputs": [],
   "source": [
    "class selfAttention(nn.Module):\n",
    "    def __init__(self):\n",
    "        pass\n",
    "    \n",
    "    def forward(self,q,k,v):\n",
    "        #q,k,v = (batch_shape, )\n",
    "        scores = \n",
    "        \n",
    "        "
   ]
  },
  {
   "cell_type": "code",
   "execution_count": null,
   "metadata": {},
   "outputs": [],
   "source": [
    "class TransformerEncoder(nn.Module):\n",
    "    def __init__(self,input_shape):\n",
    "        super(SelfAttention,self).__init__()\n",
    "        self.keys = nn.Linear(input_shape, input_shape)\n",
    "        self.query = nn.Linear(input_shape, input_shape)\n",
    "        \n",
    "        self.values = nn.Linear(input_shape, input_shape)\n",
    "        \n",
    "        "
   ]
  }
 ],
 "metadata": {
  "interpreter": {
   "hash": "ec606fc085fe86530c35cef2373cc343a007c8f5f2b5ac3b7e79a3e17604272c"
  },
  "kernelspec": {
   "display_name": "Python 3.7.10 64-bit ('lab1': conda)",
   "language": "python",
   "name": "python3"
  },
  "language_info": {
   "name": "python",
   "version": "3.7.10"
  },
  "orig_nbformat": 4
 },
 "nbformat": 4,
 "nbformat_minor": 2
}
