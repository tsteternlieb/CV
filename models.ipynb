{
 "cells": [
  {
   "cell_type": "markdown",
   "metadata": {},
   "source": [
    "## File for different Model Layers and the like"
   ]
  },
  {
   "cell_type": "code",
   "execution_count": 1,
   "metadata": {},
   "outputs": [],
   "source": [
    "import torch\n",
    "from torch import nn"
   ]
  },
  {
   "cell_type": "code",
   "execution_count": 23,
   "metadata": {},
   "outputs": [
    {
     "data": {
      "text/plain": [
       "torch.Size([8, 20, 1])"
      ]
     },
     "execution_count": 23,
     "metadata": {},
     "output_type": "execute_result"
    }
   ],
   "source": [
    "s = torch.rand(8,20,20)\n",
    "v = torch.rand(8,20,1)\n",
    "\n",
    "torch.matmul(s,v).shape"
   ]
  },
  {
   "cell_type": "code",
   "execution_count": 24,
   "metadata": {},
   "outputs": [],
   "source": [
    "class selfAttentionDot(nn.Module):\n",
    "    \"\"\"calculating dot product self attention\n",
    "    \"\"\"\n",
    "    def __init__(self):\n",
    "        super(selfAttentionDot,self).__init__()\n",
    "    \n",
    "    def forward(self,q,k,v):\n",
    "        #q,k,v = (batch_shape, n)\n",
    "        depth = q.shape[1]\n",
    "        k = torch.unsqueeze(k,dim = 2) #(b,n,1)\n",
    "        q = torch.unsqueeze(q,dim = 1) #(b,1,n)\n",
    "        scores = torch.matmul(q,k)/torch.sqrt(depth) #(b,n,n)\n",
    "        v = torch.unsqueeze(v, dim = 2)\n",
    "        values = scores*v #(b,n)\n",
    "        values = torch.squeeze(dim = 2)\n",
    "        \n",
    "        return values\n",
    "        \n",
    "        \n",
    "        "
   ]
  },
  {
   "cell_type": "code",
   "execution_count": null,
   "metadata": {},
   "outputs": [],
   "source": [
    "class TransformerEncoder(nn.Module):\n",
    "    def __init__(self,input_shape):\n",
    "        super(SelfAttention,self).__init__()\n",
    "        self.keys = nn.Linear(input_shape, input_shape)\n",
    "        self.query = nn.Linear(input_shape, input_shape)\n",
    "        \n",
    "        self.values = nn.Linear(input_shape, input_shape)\n",
    "        \n",
    "        "
   ]
  }
 ],
 "metadata": {
  "interpreter": {
   "hash": "ec606fc085fe86530c35cef2373cc343a007c8f5f2b5ac3b7e79a3e17604272c"
  },
  "kernelspec": {
   "display_name": "Python 3.7.10 64-bit ('lab1': conda)",
   "language": "python",
   "name": "python3"
  },
  "language_info": {
   "codemirror_mode": {
    "name": "ipython",
    "version": 3
   },
   "file_extension": ".py",
   "mimetype": "text/x-python",
   "name": "python",
   "nbconvert_exporter": "python",
   "pygments_lexer": "ipython3",
   "version": "3.7.10"
  },
  "orig_nbformat": 4
 },
 "nbformat": 4,
 "nbformat_minor": 2
}
