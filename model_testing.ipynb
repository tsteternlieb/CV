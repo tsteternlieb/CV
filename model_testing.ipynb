{
 "cells": [
  {
   "cell_type": "markdown",
   "metadata": {},
   "source": [
    "## File for different Model Layers and the like"
   ]
  },
  {
   "cell_type": "code",
   "execution_count": 1,
   "metadata": {},
   "outputs": [],
   "source": [
    "import torch\n",
    "from torch import nn"
   ]
  },
  {
   "cell_type": "code",
   "execution_count": 3,
   "metadata": {},
   "outputs": [],
   "source": [
    "class selfAttentionDot(nn.Module):\n",
    "    \"\"\"calculating dot product self attention\n",
    "    \"\"\"\n",
    "    def __init__(self):\n",
    "        super(selfAttentionDot,self).__init__()\n",
    "    \n",
    "    def forward(self,q,k,v):\n",
    "        #q,k,v = (batch,seq,features)\n",
    "        # add activations\n",
    "        depth = q.shape[2]\n",
    "        scores = torch.matmul(k,q.permute([0,2,1]))/torch.sqrt(depth) #(batch,seq,seq)\n",
    "        softmax_scores = torch.softmax(scores,dim=(1,2))\n",
    "        return torch.matmul(softmax_scores,v) #(batch,seq,features)\n",
    "        \n",
    "        \n",
    "        \n",
    "        "
   ]
  },
  {
   "cell_type": "code",
   "execution_count": 90,
   "metadata": {},
   "outputs": [],
   "source": [
    "class LayerNorm(nn.Module):\n",
    "    \"\"\"LayerNorm from https://arxiv.org/pdf/1607.06450.pdf\n",
    "    \"\"\"\n",
    "    def __init__(self, feat_dim):\n",
    "        super(LayerNorm,self).__init__()\n",
    "        \n",
    "        self.bias = nn.parameter.Parameter(data=torch.zeros(feat_dim),requires_grad=True)\n",
    "        self.gain = nn.parameter.Parameter(data=torch.ones(feat_dim),requires_grad=True)\n",
    "    \n",
    "        self.input_shape = feat_dim\n",
    "    def forward(self,inputs):\n",
    "        \"\"\"\n",
    "        Args:\n",
    "            inputs (torch.Tensor): tensor of shape (batch,seq,feat_dim)\n",
    "\n",
    "        Returns:\n",
    "            torch.tensor : layer normalized output\n",
    "        \"\"\"\n",
    "\n",
    "        mean = torch.mean(inputs,dim=(1,2))\n",
    "        var = torch.mean(torch.square(inputs-mean), dim =(1,2),keepdim=True)\n",
    "        std = torch.sqrt(var)\n",
    "        \n",
    "        norm = (inputs - mean)/std\n",
    "        af_norm = self.gain*norm + self.bias\n",
    "        return af_norm\n",
    "        \n",
    "        \n",
    "        "
   ]
  },
  {
   "cell_type": "code",
   "execution_count": null,
   "metadata": {},
   "outputs": [],
   "source": [
    "class TransformerEncoder(nn.Module):\n",
    "    #(batch, seq, features)\n",
    "    def __init__(self,size):\n",
    "        super(TransformerEncoder,self).__init__()\n",
    "        \n",
    "        self.keys = nn.Linear(size, size)\n",
    "        self.query = nn.Linear(size, size)\n",
    "        self.values = nn.Linear(size, size)\n",
    "        \n",
    "        self.feedForward = nn.Linear(size,size)\n",
    "        \n",
    "        self.selfAttention = selfAttentionDot(size)\n",
    "        \n",
    "        self.layerNorm1 = LayerNorm(size)\n",
    "        self.layerNorm2 = LayerNorm(size)\n",
    "        \n",
    "    def forward(self,inputs):\n",
    "        #(batch, seq, features)\n",
    "        shape = inputs.shape\n",
    "        flatten = torch.flatten(inputs,0,1)\n",
    "        k = self.keys(flatten)\n",
    "        k = torch.reshape(k,shape)\n",
    "        \n",
    "        q = self.query(flatten)\n",
    "        q = torch.reshape(q,shape)\n",
    "        \n",
    "        v = self.values(flatten)\n",
    "        v = torch.reshape(v,shape)\n",
    "        \n",
    "        attention = self.selfAttention(k,q,v)\n",
    "        res = inputs + attention\n",
    "        res = self.layerNorm1(res)\n",
    "        \n",
    "        res_flatten = torch.flatten(res,0,1)\n",
    "        res_flatten = self.feedForward(res_flatten)\n",
    "        res_flatten = torch.reshape(res_flatten, shape)\n",
    "        \n",
    "        out = res + res_flatten\n",
    "        out = self.layerNorm2(out)\n",
    "        return out\n",
    "                "
   ]
  }
 ],
 "metadata": {
  "interpreter": {
   "hash": "ec606fc085fe86530c35cef2373cc343a007c8f5f2b5ac3b7e79a3e17604272c"
  },
  "kernelspec": {
   "display_name": "Python 3.7.10 64-bit ('lab1': conda)",
   "language": "python",
   "name": "python3"
  },
  "language_info": {
   "codemirror_mode": {
    "name": "ipython",
    "version": 3
   },
   "file_extension": ".py",
   "mimetype": "text/x-python",
   "name": "python",
   "nbconvert_exporter": "python",
   "pygments_lexer": "ipython3",
   "version": "3.7.10"
  },
  "orig_nbformat": 4
 },
 "nbformat": 4,
 "nbformat_minor": 2
}
