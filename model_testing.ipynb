{
 "cells": [
  {
   "cell_type": "markdown",
   "metadata": {},
   "source": [
    "## File for different Model Layers and the like"
   ]
  },
  {
   "cell_type": "code",
   "execution_count": 1,
   "metadata": {},
   "outputs": [],
   "source": [
    "import torch\n",
    "from torch import nn"
   ]
  },
  {
   "cell_type": "code",
   "execution_count": null,
   "metadata": {},
   "outputs": [],
   "source": []
  },
  {
   "cell_type": "code",
   "execution_count": 3,
   "metadata": {},
   "outputs": [],
   "source": [
    "class DotProdAttention(nn.Module):\n",
    "    \"\"\"calculating dot product self attention\n",
    "    \"\"\"\n",
    "    def __init__(self,in_dim,out_dim):\n",
    "        super(DotProdAttention,self).__init__()\n",
    "        self.key = nn.Linear(in_dim,out_dim)\n",
    "        self.query = nn.Linear(in_dim,out_dim)\n",
    "        self.value = nn.Linear(in_dim,out_dim)\n",
    "    \n",
    "    def forward(self,inputs):\n",
    "        #q,k,v = (batch,seq,features)\n",
    "        # add activations\n",
    "        k = self.key(inputs)\n",
    "        q = self.query(inputs)\n",
    "        v = self.value(inputs)\n",
    "        \n",
    "        \n",
    "        depth = q.shape[2]\n",
    "        scores = torch.matmul(k,q.permute([0,2,1]))/torch.sqrt(depth) #(batch,seq,seq)\n",
    "        softmax_scores = torch.softmax(scores,dim=(1,2))\n",
    "        return torch.matmul(softmax_scores,v) #(batch,seq,features)\n",
    "        \n",
    "        \n",
    "        \n",
    "        "
   ]
  },
  {
   "cell_type": "code",
   "execution_count": null,
   "metadata": {},
   "outputs": [],
   "source": [
    "class MultiHeadAttention(nn.Module):\n",
    "    def __init__(self,num_heads,feat_dim):\n",
    "        super(MultiHeadAttention,self).__init__()\n",
    "        assert(feat_dim%num_heads == 0)\n",
    "        embed_dim = int(feat_dim/num_heads\n",
    "        self.num_heads = num_heads\n",
    "        self.feat_dim = feat_dim\n",
    "        \n",
    "        self.attention_heads = nn.ModuleList([DotProdAttention(feat_dim,embed_dim)] \n",
    "                                             for i in range(num_heads))\n",
    "        \n",
    "    def forward(self,inputs):\n",
    "        \n",
    "        l = []\n",
    "        for layer in self.attention_heads: ###err bad parralelism\n",
    "            l.append(layer(inputs))\n",
    "            \n",
    "        out = torch.concat(l,dim=2)\n",
    "        \n"
   ]
  },
  {
   "cell_type": "code",
   "execution_count": 90,
   "metadata": {},
   "outputs": [],
   "source": [
    "class LayerNorm(nn.Module):\n",
    "    \"\"\"LayerNorm from https://arxiv.org/pdf/1607.06450.pdf\n",
    "    \"\"\"\n",
    "    def __init__(self, feat_dim):\n",
    "        super(LayerNorm,self).__init__()\n",
    "        \n",
    "        self.bias = nn.parameter.Parameter(data=torch.zeros(feat_dim),requires_grad=True)\n",
    "        self.gain = nn.parameter.Parameter(data=torch.ones(feat_dim),requires_grad=True)\n",
    "    \n",
    "        self.input_shape = feat_dim\n",
    "    def forward(self,inputs):\n",
    "        \"\"\"\n",
    "        Args:\n",
    "            inputs (torch.Tensor): tensor of shape (batch,seq,feat_dim)\n",
    "\n",
    "        Returns:\n",
    "            torch.tensor : layer normalized output\n",
    "        \"\"\"\n",
    "\n",
    "        mean = torch.mean(inputs,dim=(1,2))\n",
    "        var = torch.mean(torch.square(inputs-mean), dim =(1,2),keepdim=True)\n",
    "        std = torch.sqrt(var)\n",
    "        \n",
    "        norm = (inputs - mean)/std\n",
    "        af_norm = self.gain*norm + self.bias\n",
    "        return af_norm\n",
    "        \n",
    "        \n",
    "        "
   ]
  },
  {
   "cell_type": "code",
   "execution_count": null,
   "metadata": {},
   "outputs": [],
   "source": [
    "class TransformerEncoder(nn.Module):\n",
    "    #(batch, seq, features)\n",
    "    def __init__(self,size,num_heads):\n",
    "        super(TransformerEncoder,self).__init__()\n",
    "        \n",
    "        self.feedForward = nn.Sequential([nn.Linear(size,size), \n",
    "                                           nn.ReLU(), \n",
    "                                           nn.Linear(size,size)])\n",
    "        \n",
    "        self.selfAttention = MultiHeadAttention(num_heads,size)\n",
    "        \n",
    "        self.layerNorm1 = LayerNorm(size)\n",
    "        self.layerNorm2 = LayerNorm(size)\n",
    "        \n",
    "    def forward(self,inputs):\n",
    "        #(batch, seq, features)\n",
    "        shape = inputs.shape\n",
    "\n",
    "        attention = self.selfAttention(inputs)\n",
    "        res = inputs + attention\n",
    "        res = self.layerNorm1(res)\n",
    "        \n",
    "        x = self.feedForward(res)\n",
    "        \n",
    "        out = res + x\n",
    "        out = self.layerNorm2(out)\n",
    "        return out\n",
    "                "
   ]
  }
 ],
 "metadata": {
  "interpreter": {
   "hash": "ec606fc085fe86530c35cef2373cc343a007c8f5f2b5ac3b7e79a3e17604272c"
  },
  "kernelspec": {
   "display_name": "Python 3.7.10 64-bit ('lab1': conda)",
   "language": "python",
   "name": "python3"
  },
  "language_info": {
   "codemirror_mode": {
    "name": "ipython",
    "version": 3
   },
   "file_extension": ".py",
   "mimetype": "text/x-python",
   "name": "python",
   "nbconvert_exporter": "python",
   "pygments_lexer": "ipython3",
   "version": "3.7.10"
  },
  "orig_nbformat": 4
 },
 "nbformat": 4,
 "nbformat_minor": 2
}
