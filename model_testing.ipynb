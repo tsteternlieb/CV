{
 "cells": [
  {
   "cell_type": "markdown",
   "metadata": {},
   "source": [
    "## File for different Model Layers and the like"
   ]
  },
  {
   "cell_type": "code",
   "execution_count": 1,
   "metadata": {},
   "outputs": [],
   "source": [
    "import torch\n",
    "from torch import nn"
   ]
  },
  {
   "cell_type": "code",
   "execution_count": 3,
   "metadata": {},
   "outputs": [],
   "source": [
    "class selfAttentionDot(nn.Module):\n",
    "    \"\"\"calculating dot product self attention\n",
    "    \"\"\"\n",
    "    def __init__(self):\n",
    "        super(selfAttentionDot,self).__init__()\n",
    "    \n",
    "    def forward(self,q,k,v):\n",
    "        #q,k,v = (batch,seq,features)\n",
    "        # add activations\n",
    "        depth = q.shape[2]\n",
    "        s = torch.matmul(k,q.permute([0,2,1]))/torch.sqrt(depth) #(batch,seq,seq)\n",
    "        return torch.matmul(s,v) #(batch,seq,features)\n",
    "        \n",
    "        \n",
    "        \n",
    "        "
   ]
  },
  {
   "cell_type": "code",
   "execution_count": 66,
   "metadata": {},
   "outputs": [
    {
     "name": "stdout",
     "output_type": "stream",
     "text": [
      "torch.Size([8, 10, 10])\n"
     ]
    },
    {
     "data": {
      "text/plain": [
       "torch.Size([8, 10, 7])"
      ]
     },
     "execution_count": 66,
     "metadata": {},
     "output_type": "execute_result"
    }
   ],
   "source": [
    "seq = 10\n",
    "batch = 8\n",
    "features = 7\n",
    "\n",
    "k = torch.rand(batch,seq,features)\n",
    "q = torch.rand(batch,seq,features)\n",
    "v = torch.rand(batch,seq,features)\n",
    "\n",
    "s = torch.matmul(k,q.permute([0,2,1]))\n",
    "print(s.shape)\n",
    "torch.matmul(s,v).shape\n"
   ]
  },
  {
   "cell_type": "code",
   "execution_count": 46,
   "metadata": {},
   "outputs": [
    {
     "data": {
      "text/plain": [
       "3"
      ]
     },
     "execution_count": 46,
     "metadata": {},
     "output_type": "execute_result"
    }
   ],
   "source": [
    "test.mean([-1,-2])\n",
    "len((1,2,3))"
   ]
  },
  {
   "cell_type": "code",
   "execution_count": 37,
   "metadata": {},
   "outputs": [],
   "source": [
    "# test = torch.tensor([[1,1,1],[2,2,2],[3,3,3],[4,4,4]]).float()\n",
    "# mean = torch.mean(test, dim = 1,keepdim=True)\n",
    "# print(mean)\n",
    "# # print(test.shape,mean.shape)\n",
    "# mean = mean.repeat(1,3)\n",
    "# # print(test.shape,mean.shape)\n",
    "# # torch.sub(test,mean,)\n",
    "# print(test)\n",
    "# print(mean)\n",
    "# print(test-mean)"
   ]
  },
  {
   "cell_type": "code",
   "execution_count": 38,
   "metadata": {},
   "outputs": [],
   "source": [
    "class LayerNorm(nn.Module):\n",
    "    \"\"\"My implementation of LayerNorm for 1d inputs from https://arxiv.org/pdf/1607.06450.pdf\n",
    "    still have to figure out how this links up with a (batch_dim,channel,seq_length) input for transformers\n",
    "    as well as fix some shapes\n",
    "    \"\"\"\n",
    "    def __init__(self, input_shape):\n",
    "        super(LayerNorm,self).__init__()\n",
    "        \n",
    "        self.bias = nn.parameter.Parameter(data=torch.zeros(input_shape),requires_grad=True)\n",
    "        self.gain = nn.parameter.Parameter(data=torch.ones(input_shape),requires_grad=True)\n",
    "    \n",
    "        self.input_shape = input_shape\n",
    "        self.dim = [-i for i in range(1,len(input_shape)+1)]\n",
    "    def forward(self,inputs):\n",
    "        \"\"\"\n",
    "        Args:\n",
    "            inputs (torch.Tensor): tensor of shape(batch,seq,features))\n",
    "        \"\"\"\n",
    "        batch_dim = inputs.shape[0]\n",
    "        mu = torch.mean(inputs,dim=self.dim)\n",
    "        var = torch.mean(torch.square(inputs - mu.repeat(1,self.input_dim)),dim = 1)\n",
    "        std = torch.sqrt(var)\n",
    "        \n",
    "        centered = (inputs - mu.repeat(1,self.inpu_dim))\n",
    "        \n",
    "        gain = self.gain.repeat(batch_dim, 1)\n",
    "        bias = self.bias.repeat(batch_dim, 1)\n",
    "        \n",
    "        scale = std/gain\n",
    "        \n",
    "        norm = scale*centered + bias\n",
    "        return norm\n",
    "        \n",
    "        \n",
    "        "
   ]
  },
  {
   "cell_type": "code",
   "execution_count": 48,
   "metadata": {},
   "outputs": [
    {
     "data": {
      "text/plain": [
       "torch.Size([96, 20])"
      ]
     },
     "execution_count": 48,
     "metadata": {},
     "output_type": "execute_result"
    }
   ],
   "source": [
    "t = torch.rand(12,8,20)\n",
    "torch.flatten(t,0,1).shape"
   ]
  },
  {
   "cell_type": "code",
   "execution_count": null,
   "metadata": {},
   "outputs": [],
   "source": [
    "class TransformerEncoder(nn.Module):\n",
    "    #(batch, seq, features)\n",
    "    def __init__(self,size):\n",
    "        super(TransformerEncoder,self).__init__()\n",
    "        \n",
    "        self.keys = nn.Linear(size, size)\n",
    "        self.query = nn.Linear(size, size)\n",
    "        self.values = nn.Linear(size, size)\n",
    "        \n",
    "        self.selfAttention = selfAttentionDot()\n",
    "        \n",
    "    def forward(self,inputs):\n",
    "        #(batch, seq, features)\n",
    "        shape = inputs.shape\n",
    "        flatten = torch.flatten(inputs,0,1)\n",
    "        k = self.keys(flatten)\n",
    "        k = torch.reshape(k,shape)\n",
    "        \n",
    "        q = self.query(flatten)\n",
    "        q = torch.reshape(q,shape)\n",
    "        \n",
    "        v = self.values(flatten)\n",
    "        v = torch.reshape(v,shape)\n",
    "        \n",
    "        attention = self.selfAttention(k,q,v)\n",
    "        \n",
    "        return inputs + attention\n",
    "                \n",
    "        \n",
    "        \n",
    "        "
   ]
  }
 ],
 "metadata": {
  "interpreter": {
   "hash": "ec606fc085fe86530c35cef2373cc343a007c8f5f2b5ac3b7e79a3e17604272c"
  },
  "kernelspec": {
   "display_name": "Python 3.7.10 64-bit ('lab1': conda)",
   "language": "python",
   "name": "python3"
  },
  "language_info": {
   "codemirror_mode": {
    "name": "ipython",
    "version": 3
   },
   "file_extension": ".py",
   "mimetype": "text/x-python",
   "name": "python",
   "nbconvert_exporter": "python",
   "pygments_lexer": "ipython3",
   "version": "3.7.10"
  },
  "orig_nbformat": 4
 },
 "nbformat": 4,
 "nbformat_minor": 2
}
