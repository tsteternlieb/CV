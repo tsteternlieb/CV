{
 "cells": [
  {
   "cell_type": "markdown",
   "metadata": {},
   "source": [
    "## File for different Model Layers and the like"
   ]
  },
  {
   "cell_type": "code",
   "execution_count": 1,
   "metadata": {},
   "outputs": [],
   "source": [
    "import torch\n",
    "from torch import nn"
   ]
  },
  {
   "cell_type": "code",
   "execution_count": 2,
   "metadata": {},
   "outputs": [
    {
     "data": {
      "text/plain": [
       "torch.Size([8, 20, 1])"
      ]
     },
     "execution_count": 2,
     "metadata": {},
     "output_type": "execute_result"
    }
   ],
   "source": [
    "s = torch.rand(8,20,20)\n",
    "v = torch.rand(8,20,1)\n",
    "\n",
    "torch.matmul(s,v).shape"
   ]
  },
  {
   "cell_type": "code",
   "execution_count": 3,
   "metadata": {},
   "outputs": [],
   "source": [
    "class selfAttentionDot(nn.Module):\n",
    "    \"\"\"calculating dot product self attention\n",
    "    \"\"\"\n",
    "    def __init__(self):\n",
    "        super(selfAttentionDot,self).__init__()\n",
    "    \n",
    "    def forward(self,q,k,v):\n",
    "        #q,k,v = (batch_shape, n)\n",
    "        # add activations\n",
    "        depth = q.shape[1]\n",
    "        k = torch.unsqueeze(k,dim = 2) #(b,n,1)\n",
    "        q = torch.unsqueeze(q,dim = 1) #(b,1,n)\n",
    "        scores = torch.matmul(q,k)/torch.sqrt(depth) #(b,n,n)\n",
    "        v = torch.unsqueeze(v, dim = 2)\n",
    "        values = scores*v #(b,n)\n",
    "        values = torch.squeeze(dim = 2)\n",
    "        \n",
    "        return values\n",
    "        \n",
    "        \n",
    "        "
   ]
  },
  {
   "cell_type": "code",
   "execution_count": 32,
   "metadata": {},
   "outputs": [
    {
     "name": "stdout",
     "output_type": "stream",
     "text": [
      "tensor([[1, 1, 1],\n",
      "        [2, 2, 2],\n",
      "        [3, 3, 3],\n",
      "        [4, 4, 4]]) torch.Size([4, 3])\n"
     ]
    }
   ],
   "source": [
    "test = torch.tensor([[1,1,1],[2,2,2],[3,3,3],[4,4,4]])\n",
    "print(test,test.shape)\n"
   ]
  },
  {
   "cell_type": "code",
   "execution_count": 37,
   "metadata": {},
   "outputs": [],
   "source": [
    "# test = torch.tensor([[1,1,1],[2,2,2],[3,3,3],[4,4,4]]).float()\n",
    "# mean = torch.mean(test, dim = 1,keepdim=True)\n",
    "# print(mean)\n",
    "# # print(test.shape,mean.shape)\n",
    "# mean = mean.repeat(1,3)\n",
    "# # print(test.shape,mean.shape)\n",
    "# # torch.sub(test,mean,)\n",
    "# print(test)\n",
    "# print(mean)\n",
    "# print(test-mean)"
   ]
  },
  {
   "cell_type": "code",
   "execution_count": 38,
   "metadata": {},
   "outputs": [],
   "source": [
    "class LayerNorm1D(nn.Module):\n",
    "    \"\"\"My implementation of LayerNorm for 1d inputs from https://arxiv.org/pdf/1607.06450.pdf\n",
    "    still have to figure out how this links up with a (batch_dim,channel,seq_length) input for transformers\n",
    "    as well as fix some shapes\n",
    "    \"\"\"\n",
    "    def __init__(self, input_dim):\n",
    "        super(LayerNorm1D,self).__init__()\n",
    "        self.input_dim = input_dim\n",
    "        self.bias = nn.parameter.Parameter(data=torch.zeros(1,input_dim),requires_grad=True)\n",
    "        self.gain = nn.parameter.Parameter(data=torch.ones(1,input_dim),requires_grad=True)\n",
    "    \n",
    "    def forward(self,inputs):\n",
    "        \"\"\"\n",
    "        Args:\n",
    "            inputs (torch.Tensor): tensor of shape(B, input_dim)\n",
    "        \"\"\"\n",
    "        batch_dim = inputs.shape[0]\n",
    "        mu = torch.mean(inputs,dim=1)\n",
    "        var = torch.mean(torch.square(inputs - mu.repeat(1,self.input_dim)),dim = 1)\n",
    "        std = torch.sqrt(var)\n",
    "        \n",
    "        centered = (inputs - mu.repeat(1,self.inpu_dim))\n",
    "        \n",
    "        gain = self.gain.repeat(batch_dim, 1)\n",
    "        bias = self.bias.repeat(batch_dim, 1)\n",
    "        \n",
    "        scale = std/gain\n",
    "        \n",
    "        norm = scale*centered + bias\n",
    "        return norm\n",
    "        \n",
    "        \n",
    "        "
   ]
  },
  {
   "cell_type": "code",
   "execution_count": 39,
   "metadata": {},
   "outputs": [],
   "source": [
    "l = LayerNorm1D(4)"
   ]
  },
  {
   "cell_type": "code",
   "execution_count": null,
   "metadata": {},
   "outputs": [],
   "source": [
    "class TransformerEncoder(nn.Module):\n",
    "    def __init__(self,size):\n",
    "        super(TransformerEncoder,self).__init__()\n",
    "        \n",
    "        self.keys = nn.Linear(size, size)\n",
    "        self.query = nn.Linear(size, size)\n",
    "        self.values = nn.Linear(size, size)\n",
    "        \n",
    "        self.selfAttention = selfAttentionDot()\n",
    "        \n",
    "    def forward(self,inputs):\n",
    "        k = self.keys(inputs)\n",
    "        q = self.query(inputs)\n",
    "        v = self.values(inputs)\n",
    "        attention = self.selfAttention(k,q,v)\n",
    "        res = attention + inputs\n",
    "                \n",
    "        \n",
    "        \n",
    "        "
   ]
  }
 ],
 "metadata": {
  "interpreter": {
   "hash": "ec606fc085fe86530c35cef2373cc343a007c8f5f2b5ac3b7e79a3e17604272c"
  },
  "kernelspec": {
   "display_name": "Python 3.7.10 64-bit ('lab1': conda)",
   "language": "python",
   "name": "python3"
  },
  "language_info": {
   "codemirror_mode": {
    "name": "ipython",
    "version": 3
   },
   "file_extension": ".py",
   "mimetype": "text/x-python",
   "name": "python",
   "nbconvert_exporter": "python",
   "pygments_lexer": "ipython3",
   "version": "3.7.10"
  },
  "orig_nbformat": 4
 },
 "nbformat": 4,
 "nbformat_minor": 2
}
